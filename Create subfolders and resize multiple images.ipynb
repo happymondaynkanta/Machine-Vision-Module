{
 "cells": [
  {
   "cell_type": "code",
   "execution_count": 18,
   "metadata": {},
   "outputs": [],
   "source": [
    "import os\n",
    "from PIL import Image\n",
    "import numpy as np"
   ]
  },
  {
   "cell_type": "code",
   "execution_count": 19,
   "metadata": {},
   "outputs": [],
   "source": [
    "#train_dir = r'D:\\C5\\MV_Seminar Week 5\\dataset_dcf\\train'\n",
    "test_dir = r'D:\\C5\\MV_Seminar Week 5\\dataset_dcf\\test'\n"
   ]
  },
  {
   "cell_type": "code",
   "execution_count": 20,
   "metadata": {},
   "outputs": [],
   "source": [
    "# Define a function to convert and resize images in the train directory\n",
    "def preprocess_images(test_dir, target_size=(128, 128)):\n",
    "    processed_dir = r'D:\\C5\\MV_Seminar Week 5\\data_mv\\test'  # Change this to your desired directory\n",
    "    \n",
    "\n",
    "    if not os.path.exists(processed_dir):\n",
    "        os.makedirs(processed_dir)\n",
    "\n",
    "    for class_folder in os.listdir(test_dir):\n",
    "        class_path = os.path.join(test_dir, class_folder)\n",
    "        processed_class_path = os.path.join(processed_dir, class_folder)\n",
    "\n",
    "        if not os.path.exists(processed_class_path):\n",
    "            os.makedirs(processed_class_path)\n",
    "\n",
    "        for image_file in os.listdir(class_path):\n",
    "            image_path = os.path.join(class_path, image_file)\n",
    "            # Open the image using PIL\n",
    "            img = Image.open(image_path)\n",
    "            # Convert to RGB in case of grayscale images\n",
    "            #img = img.convert('RGB')\n",
    "            # Resize the image to the target size\n",
    "            img = img.resize(target_size, Image.ANTIALIAS)\n",
    "            # Save the processed image\n",
    "            processed_image_path = os.path.join(processed_class_path, image_file + '.png')\n",
    "            img.save(processed_image_path, 'png')\n",
    "\n",
    "# Preprocess the images before training\n",
    "preprocess_images(test_dir)"
   ]
  },
  {
   "cell_type": "code",
   "execution_count": null,
   "metadata": {},
   "outputs": [],
   "source": []
  }
 ],
 "metadata": {
  "kernelspec": {
   "display_name": "Python 3",
   "language": "python",
   "name": "python3"
  },
  "language_info": {
   "codemirror_mode": {
    "name": "ipython",
    "version": 3
   },
   "file_extension": ".py",
   "mimetype": "text/x-python",
   "name": "python",
   "nbconvert_exporter": "python",
   "pygments_lexer": "ipython3",
   "version": "3.7.7"
  }
 },
 "nbformat": 4,
 "nbformat_minor": 4
}
